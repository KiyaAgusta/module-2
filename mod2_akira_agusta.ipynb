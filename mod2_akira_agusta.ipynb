{
 "cells": [
  {
   "cell_type": "markdown",
   "metadata": {},
   "source": [
    "<center><h1>Module 2 Assignment</h1></center>"
   ]
  },
  {
   "cell_type": "markdown",
   "metadata": {},
   "source": [
    "# Choose a dataset\n",
    "\n",
    "Choose a dataset from [NYC Open Data](https://opendata.cityofnewyork.us/) that is available in CSV format (look at the format labels in the list of datasets). Choose one that has at least 2 numerical value columns and 1 string value column. \n",
    "\n",
    "If it's a CSV file you may be able to directly read it with pandas\n",
    "```\n",
    "pd.read_csv(url)\n",
    "```\n",
    "\n",
    "If it is a compressed file (.zip, .gz, etc.), download the zip and unpack it, then read it in with pandas\n",
    "```\n",
    "pd.read_csv(<filename>.csv)\n",
    "```"
   ]
  },
  {
   "cell_type": "code",
   "execution_count": 1,
   "metadata": {},
   "outputs": [
    {
     "data": {
      "text/html": [
       "<div>\n",
       "<style scoped>\n",
       "    .dataframe tbody tr th:only-of-type {\n",
       "        vertical-align: middle;\n",
       "    }\n",
       "\n",
       "    .dataframe tbody tr th {\n",
       "        vertical-align: top;\n",
       "    }\n",
       "\n",
       "    .dataframe thead th {\n",
       "        text-align: right;\n",
       "    }\n",
       "</style>\n",
       "<table border=\"1\" class=\"dataframe\">\n",
       "  <thead>\n",
       "    <tr style=\"text-align: right;\">\n",
       "      <th></th>\n",
       "      <th>DBN</th>\n",
       "      <th>SCHOOL NAME</th>\n",
       "      <th>Num of SAT Test Takers</th>\n",
       "      <th>SAT Critical Reading Avg. Score</th>\n",
       "      <th>SAT Math Avg. Score</th>\n",
       "      <th>SAT Writing Avg. Score</th>\n",
       "    </tr>\n",
       "  </thead>\n",
       "  <tbody>\n",
       "    <tr>\n",
       "      <th>0</th>\n",
       "      <td>01M292</td>\n",
       "      <td>HENRY STREET SCHOOL FOR INTERNATIONAL STUDIES</td>\n",
       "      <td>29.0</td>\n",
       "      <td>355.0</td>\n",
       "      <td>404.0</td>\n",
       "      <td>363.0</td>\n",
       "    </tr>\n",
       "    <tr>\n",
       "      <th>1</th>\n",
       "      <td>01M448</td>\n",
       "      <td>UNIVERSITY NEIGHBORHOOD HIGH SCHOOL</td>\n",
       "      <td>91.0</td>\n",
       "      <td>383.0</td>\n",
       "      <td>423.0</td>\n",
       "      <td>366.0</td>\n",
       "    </tr>\n",
       "    <tr>\n",
       "      <th>2</th>\n",
       "      <td>01M450</td>\n",
       "      <td>EAST SIDE COMMUNITY SCHOOL</td>\n",
       "      <td>70.0</td>\n",
       "      <td>377.0</td>\n",
       "      <td>402.0</td>\n",
       "      <td>370.0</td>\n",
       "    </tr>\n",
       "    <tr>\n",
       "      <th>3</th>\n",
       "      <td>01M458</td>\n",
       "      <td>FORSYTH SATELLITE ACADEMY</td>\n",
       "      <td>7.0</td>\n",
       "      <td>414.0</td>\n",
       "      <td>401.0</td>\n",
       "      <td>359.0</td>\n",
       "    </tr>\n",
       "    <tr>\n",
       "      <th>4</th>\n",
       "      <td>01M509</td>\n",
       "      <td>MARTA VALLE HIGH SCHOOL</td>\n",
       "      <td>44.0</td>\n",
       "      <td>390.0</td>\n",
       "      <td>433.0</td>\n",
       "      <td>384.0</td>\n",
       "    </tr>\n",
       "    <tr>\n",
       "      <th>...</th>\n",
       "      <td>...</td>\n",
       "      <td>...</td>\n",
       "      <td>...</td>\n",
       "      <td>...</td>\n",
       "      <td>...</td>\n",
       "      <td>...</td>\n",
       "    </tr>\n",
       "    <tr>\n",
       "      <th>473</th>\n",
       "      <td>75X012</td>\n",
       "      <td>P.S. X012 LEWIS AND CLARK SCHOOL</td>\n",
       "      <td>NaN</td>\n",
       "      <td>NaN</td>\n",
       "      <td>NaN</td>\n",
       "      <td>NaN</td>\n",
       "    </tr>\n",
       "    <tr>\n",
       "      <th>474</th>\n",
       "      <td>75X754</td>\n",
       "      <td>J. M. RAPPORT SCHOOL CAREER DEVELOPMENT</td>\n",
       "      <td>NaN</td>\n",
       "      <td>NaN</td>\n",
       "      <td>NaN</td>\n",
       "      <td>NaN</td>\n",
       "    </tr>\n",
       "    <tr>\n",
       "      <th>475</th>\n",
       "      <td>79M645</td>\n",
       "      <td>SCHOOL FOR COOPERATIVE TECHNICAL EDUCATION</td>\n",
       "      <td>NaN</td>\n",
       "      <td>NaN</td>\n",
       "      <td>NaN</td>\n",
       "      <td>NaN</td>\n",
       "    </tr>\n",
       "    <tr>\n",
       "      <th>476</th>\n",
       "      <td>79Q950</td>\n",
       "      <td>GED PLUS s CITYWIDE</td>\n",
       "      <td>8.0</td>\n",
       "      <td>496.0</td>\n",
       "      <td>400.0</td>\n",
       "      <td>426.0</td>\n",
       "    </tr>\n",
       "    <tr>\n",
       "      <th>477</th>\n",
       "      <td>79X490</td>\n",
       "      <td>PHOENIX ACADEMY</td>\n",
       "      <td>9.0</td>\n",
       "      <td>367.0</td>\n",
       "      <td>370.0</td>\n",
       "      <td>360.0</td>\n",
       "    </tr>\n",
       "  </tbody>\n",
       "</table>\n",
       "<p>478 rows × 6 columns</p>\n",
       "</div>"
      ],
      "text/plain": [
       "        DBN                                    SCHOOL NAME  \\\n",
       "0    01M292  HENRY STREET SCHOOL FOR INTERNATIONAL STUDIES   \n",
       "1    01M448            UNIVERSITY NEIGHBORHOOD HIGH SCHOOL   \n",
       "2    01M450                     EAST SIDE COMMUNITY SCHOOL   \n",
       "3    01M458                      FORSYTH SATELLITE ACADEMY   \n",
       "4    01M509                        MARTA VALLE HIGH SCHOOL   \n",
       "..      ...                                            ...   \n",
       "473  75X012               P.S. X012 LEWIS AND CLARK SCHOOL   \n",
       "474  75X754        J. M. RAPPORT SCHOOL CAREER DEVELOPMENT   \n",
       "475  79M645     SCHOOL FOR COOPERATIVE TECHNICAL EDUCATION   \n",
       "476  79Q950                            GED PLUS s CITYWIDE   \n",
       "477  79X490                                PHOENIX ACADEMY   \n",
       "\n",
       "     Num of SAT Test Takers  SAT Critical Reading Avg. Score  \\\n",
       "0                      29.0                            355.0   \n",
       "1                      91.0                            383.0   \n",
       "2                      70.0                            377.0   \n",
       "3                       7.0                            414.0   \n",
       "4                      44.0                            390.0   \n",
       "..                      ...                              ...   \n",
       "473                     NaN                              NaN   \n",
       "474                     NaN                              NaN   \n",
       "475                     NaN                              NaN   \n",
       "476                     8.0                            496.0   \n",
       "477                     9.0                            367.0   \n",
       "\n",
       "     SAT Math Avg. Score  SAT Writing Avg. Score  \n",
       "0                  404.0                   363.0  \n",
       "1                  423.0                   366.0  \n",
       "2                  402.0                   370.0  \n",
       "3                  401.0                   359.0  \n",
       "4                  433.0                   384.0  \n",
       "..                   ...                     ...  \n",
       "473                  NaN                     NaN  \n",
       "474                  NaN                     NaN  \n",
       "475                  NaN                     NaN  \n",
       "476                400.0                   426.0  \n",
       "477                370.0                   360.0  \n",
       "\n",
       "[478 rows x 6 columns]"
      ]
     },
     "execution_count": 1,
     "metadata": {},
     "output_type": "execute_result"
    }
   ],
   "source": [
    "import pandas as pd\n",
    "dataset = pd.read_csv('2012_SAT_Results.csv')\n",
    "dataset"
   ]
  },
  {
   "cell_type": "markdown",
   "metadata": {},
   "source": [
    "The dataset used is 2012_SAT_Results. Pandas is utilized to read the .csv file."
   ]
  },
  {
   "cell_type": "markdown",
   "metadata": {},
   "source": [
    "## Display top 7 rows of the dataframe in your notebook"
   ]
  },
  {
   "cell_type": "code",
   "execution_count": 2,
   "metadata": {},
   "outputs": [
    {
     "data": {
      "text/html": [
       "<div>\n",
       "<style scoped>\n",
       "    .dataframe tbody tr th:only-of-type {\n",
       "        vertical-align: middle;\n",
       "    }\n",
       "\n",
       "    .dataframe tbody tr th {\n",
       "        vertical-align: top;\n",
       "    }\n",
       "\n",
       "    .dataframe thead th {\n",
       "        text-align: right;\n",
       "    }\n",
       "</style>\n",
       "<table border=\"1\" class=\"dataframe\">\n",
       "  <thead>\n",
       "    <tr style=\"text-align: right;\">\n",
       "      <th></th>\n",
       "      <th>DBN</th>\n",
       "      <th>SCHOOL NAME</th>\n",
       "      <th>Num of SAT Test Takers</th>\n",
       "      <th>SAT Critical Reading Avg. Score</th>\n",
       "      <th>SAT Math Avg. Score</th>\n",
       "      <th>SAT Writing Avg. Score</th>\n",
       "    </tr>\n",
       "  </thead>\n",
       "  <tbody>\n",
       "    <tr>\n",
       "      <th>0</th>\n",
       "      <td>01M292</td>\n",
       "      <td>HENRY STREET SCHOOL FOR INTERNATIONAL STUDIES</td>\n",
       "      <td>29.0</td>\n",
       "      <td>355.0</td>\n",
       "      <td>404.0</td>\n",
       "      <td>363.0</td>\n",
       "    </tr>\n",
       "    <tr>\n",
       "      <th>1</th>\n",
       "      <td>01M448</td>\n",
       "      <td>UNIVERSITY NEIGHBORHOOD HIGH SCHOOL</td>\n",
       "      <td>91.0</td>\n",
       "      <td>383.0</td>\n",
       "      <td>423.0</td>\n",
       "      <td>366.0</td>\n",
       "    </tr>\n",
       "    <tr>\n",
       "      <th>2</th>\n",
       "      <td>01M450</td>\n",
       "      <td>EAST SIDE COMMUNITY SCHOOL</td>\n",
       "      <td>70.0</td>\n",
       "      <td>377.0</td>\n",
       "      <td>402.0</td>\n",
       "      <td>370.0</td>\n",
       "    </tr>\n",
       "    <tr>\n",
       "      <th>3</th>\n",
       "      <td>01M458</td>\n",
       "      <td>FORSYTH SATELLITE ACADEMY</td>\n",
       "      <td>7.0</td>\n",
       "      <td>414.0</td>\n",
       "      <td>401.0</td>\n",
       "      <td>359.0</td>\n",
       "    </tr>\n",
       "    <tr>\n",
       "      <th>4</th>\n",
       "      <td>01M509</td>\n",
       "      <td>MARTA VALLE HIGH SCHOOL</td>\n",
       "      <td>44.0</td>\n",
       "      <td>390.0</td>\n",
       "      <td>433.0</td>\n",
       "      <td>384.0</td>\n",
       "    </tr>\n",
       "    <tr>\n",
       "      <th>5</th>\n",
       "      <td>01M515</td>\n",
       "      <td>LOWER EAST SIDE PREPARATORY HIGH SCHOOL</td>\n",
       "      <td>112.0</td>\n",
       "      <td>332.0</td>\n",
       "      <td>557.0</td>\n",
       "      <td>316.0</td>\n",
       "    </tr>\n",
       "    <tr>\n",
       "      <th>6</th>\n",
       "      <td>01M539</td>\n",
       "      <td>NEW EXPLORATIONS INTO SCIENCE, TECHNOLOGY AND ...</td>\n",
       "      <td>159.0</td>\n",
       "      <td>522.0</td>\n",
       "      <td>574.0</td>\n",
       "      <td>525.0</td>\n",
       "    </tr>\n",
       "  </tbody>\n",
       "</table>\n",
       "</div>"
      ],
      "text/plain": [
       "      DBN                                        SCHOOL NAME  \\\n",
       "0  01M292      HENRY STREET SCHOOL FOR INTERNATIONAL STUDIES   \n",
       "1  01M448                UNIVERSITY NEIGHBORHOOD HIGH SCHOOL   \n",
       "2  01M450                         EAST SIDE COMMUNITY SCHOOL   \n",
       "3  01M458                          FORSYTH SATELLITE ACADEMY   \n",
       "4  01M509                            MARTA VALLE HIGH SCHOOL   \n",
       "5  01M515            LOWER EAST SIDE PREPARATORY HIGH SCHOOL   \n",
       "6  01M539  NEW EXPLORATIONS INTO SCIENCE, TECHNOLOGY AND ...   \n",
       "\n",
       "   Num of SAT Test Takers  SAT Critical Reading Avg. Score  \\\n",
       "0                    29.0                            355.0   \n",
       "1                    91.0                            383.0   \n",
       "2                    70.0                            377.0   \n",
       "3                     7.0                            414.0   \n",
       "4                    44.0                            390.0   \n",
       "5                   112.0                            332.0   \n",
       "6                   159.0                            522.0   \n",
       "\n",
       "   SAT Math Avg. Score  SAT Writing Avg. Score  \n",
       "0                404.0                   363.0  \n",
       "1                423.0                   366.0  \n",
       "2                402.0                   370.0  \n",
       "3                401.0                   359.0  \n",
       "4                433.0                   384.0  \n",
       "5                557.0                   316.0  \n",
       "6                574.0                   525.0  "
      ]
     },
     "execution_count": 2,
     "metadata": {},
     "output_type": "execute_result"
    }
   ],
   "source": [
    "dataset.head(7)"
   ]
  },
  {
   "cell_type": "markdown",
   "metadata": {},
   "source": [
    "head() is used to display only few first rows of the dataset."
   ]
  },
  {
   "cell_type": "markdown",
   "metadata": {},
   "source": [
    "## Count number of null values (if any) for each column"
   ]
  },
  {
   "cell_type": "code",
   "execution_count": 3,
   "metadata": {
    "scrolled": false
   },
   "outputs": [
    {
     "data": {
      "text/plain": [
       "DBN                                 0\n",
       "SCHOOL NAME                         0\n",
       "Num of SAT Test Takers             57\n",
       "SAT Critical Reading Avg. Score    57\n",
       "SAT Math Avg. Score                57\n",
       "SAT Writing Avg. Score             57\n",
       "dtype: int64"
      ]
     },
     "execution_count": 3,
     "metadata": {},
     "output_type": "execute_result"
    }
   ],
   "source": [
    "import numpy as np\n",
    "np.sum(dataset.isnull())"
   ]
  },
  {
   "cell_type": "markdown",
   "metadata": {},
   "source": [
    "dataset.isnull() checks if there are null values in the dataset. As shown above, there are null values in 57 rows for columns:\n",
    "- NUM of SAT Takers\n",
    "- SAT Critical Reading Avg. Score\n",
    "- SAT Math Avg. Score\n",
    "- SAT Writing Avg. Score"
   ]
  },
  {
   "cell_type": "code",
   "execution_count": 4,
   "metadata": {},
   "outputs": [
    {
     "data": {
      "text/html": [
       "<div>\n",
       "<style scoped>\n",
       "    .dataframe tbody tr th:only-of-type {\n",
       "        vertical-align: middle;\n",
       "    }\n",
       "\n",
       "    .dataframe tbody tr th {\n",
       "        vertical-align: top;\n",
       "    }\n",
       "\n",
       "    .dataframe thead th {\n",
       "        text-align: right;\n",
       "    }\n",
       "</style>\n",
       "<table border=\"1\" class=\"dataframe\">\n",
       "  <thead>\n",
       "    <tr style=\"text-align: right;\">\n",
       "      <th></th>\n",
       "      <th>DBN</th>\n",
       "      <th>SCHOOL NAME</th>\n",
       "      <th>Num of SAT Test Takers</th>\n",
       "      <th>SAT Critical Reading Avg. Score</th>\n",
       "      <th>SAT Math Avg. Score</th>\n",
       "      <th>SAT Writing Avg. Score</th>\n",
       "    </tr>\n",
       "  </thead>\n",
       "  <tbody>\n",
       "    <tr>\n",
       "      <th>0</th>\n",
       "      <td>01M292</td>\n",
       "      <td>HENRY STREET SCHOOL FOR INTERNATIONAL STUDIES</td>\n",
       "      <td>29.0</td>\n",
       "      <td>355.0</td>\n",
       "      <td>404.0</td>\n",
       "      <td>363.0</td>\n",
       "    </tr>\n",
       "    <tr>\n",
       "      <th>1</th>\n",
       "      <td>01M448</td>\n",
       "      <td>UNIVERSITY NEIGHBORHOOD HIGH SCHOOL</td>\n",
       "      <td>91.0</td>\n",
       "      <td>383.0</td>\n",
       "      <td>423.0</td>\n",
       "      <td>366.0</td>\n",
       "    </tr>\n",
       "    <tr>\n",
       "      <th>2</th>\n",
       "      <td>01M450</td>\n",
       "      <td>EAST SIDE COMMUNITY SCHOOL</td>\n",
       "      <td>70.0</td>\n",
       "      <td>377.0</td>\n",
       "      <td>402.0</td>\n",
       "      <td>370.0</td>\n",
       "    </tr>\n",
       "    <tr>\n",
       "      <th>3</th>\n",
       "      <td>01M458</td>\n",
       "      <td>FORSYTH SATELLITE ACADEMY</td>\n",
       "      <td>7.0</td>\n",
       "      <td>414.0</td>\n",
       "      <td>401.0</td>\n",
       "      <td>359.0</td>\n",
       "    </tr>\n",
       "    <tr>\n",
       "      <th>4</th>\n",
       "      <td>01M509</td>\n",
       "      <td>MARTA VALLE HIGH SCHOOL</td>\n",
       "      <td>44.0</td>\n",
       "      <td>390.0</td>\n",
       "      <td>433.0</td>\n",
       "      <td>384.0</td>\n",
       "    </tr>\n",
       "    <tr>\n",
       "      <th>...</th>\n",
       "      <td>...</td>\n",
       "      <td>...</td>\n",
       "      <td>...</td>\n",
       "      <td>...</td>\n",
       "      <td>...</td>\n",
       "      <td>...</td>\n",
       "    </tr>\n",
       "    <tr>\n",
       "      <th>466</th>\n",
       "      <td>32K556</td>\n",
       "      <td>BUSHWICK LEADERS HIGH SCHOOL FOR ACADEMIC EXCE...</td>\n",
       "      <td>23.0</td>\n",
       "      <td>347.0</td>\n",
       "      <td>358.0</td>\n",
       "      <td>350.0</td>\n",
       "    </tr>\n",
       "    <tr>\n",
       "      <th>467</th>\n",
       "      <td>32K564</td>\n",
       "      <td>BUSHWICK COMMUNITY HIGH SCHOOL</td>\n",
       "      <td>24.0</td>\n",
       "      <td>359.0</td>\n",
       "      <td>317.0</td>\n",
       "      <td>358.0</td>\n",
       "    </tr>\n",
       "    <tr>\n",
       "      <th>471</th>\n",
       "      <td>75Q811</td>\n",
       "      <td>P.S. Q811</td>\n",
       "      <td>32.0</td>\n",
       "      <td>429.0</td>\n",
       "      <td>444.0</td>\n",
       "      <td>433.0</td>\n",
       "    </tr>\n",
       "    <tr>\n",
       "      <th>476</th>\n",
       "      <td>79Q950</td>\n",
       "      <td>GED PLUS s CITYWIDE</td>\n",
       "      <td>8.0</td>\n",
       "      <td>496.0</td>\n",
       "      <td>400.0</td>\n",
       "      <td>426.0</td>\n",
       "    </tr>\n",
       "    <tr>\n",
       "      <th>477</th>\n",
       "      <td>79X490</td>\n",
       "      <td>PHOENIX ACADEMY</td>\n",
       "      <td>9.0</td>\n",
       "      <td>367.0</td>\n",
       "      <td>370.0</td>\n",
       "      <td>360.0</td>\n",
       "    </tr>\n",
       "  </tbody>\n",
       "</table>\n",
       "<p>421 rows × 6 columns</p>\n",
       "</div>"
      ],
      "text/plain": [
       "        DBN                                        SCHOOL NAME  \\\n",
       "0    01M292      HENRY STREET SCHOOL FOR INTERNATIONAL STUDIES   \n",
       "1    01M448                UNIVERSITY NEIGHBORHOOD HIGH SCHOOL   \n",
       "2    01M450                         EAST SIDE COMMUNITY SCHOOL   \n",
       "3    01M458                          FORSYTH SATELLITE ACADEMY   \n",
       "4    01M509                            MARTA VALLE HIGH SCHOOL   \n",
       "..      ...                                                ...   \n",
       "466  32K556  BUSHWICK LEADERS HIGH SCHOOL FOR ACADEMIC EXCE...   \n",
       "467  32K564                     BUSHWICK COMMUNITY HIGH SCHOOL   \n",
       "471  75Q811                                          P.S. Q811   \n",
       "476  79Q950                                GED PLUS s CITYWIDE   \n",
       "477  79X490                                    PHOENIX ACADEMY   \n",
       "\n",
       "     Num of SAT Test Takers  SAT Critical Reading Avg. Score  \\\n",
       "0                      29.0                            355.0   \n",
       "1                      91.0                            383.0   \n",
       "2                      70.0                            377.0   \n",
       "3                       7.0                            414.0   \n",
       "4                      44.0                            390.0   \n",
       "..                      ...                              ...   \n",
       "466                    23.0                            347.0   \n",
       "467                    24.0                            359.0   \n",
       "471                    32.0                            429.0   \n",
       "476                     8.0                            496.0   \n",
       "477                     9.0                            367.0   \n",
       "\n",
       "     SAT Math Avg. Score  SAT Writing Avg. Score  \n",
       "0                  404.0                   363.0  \n",
       "1                  423.0                   366.0  \n",
       "2                  402.0                   370.0  \n",
       "3                  401.0                   359.0  \n",
       "4                  433.0                   384.0  \n",
       "..                   ...                     ...  \n",
       "466                358.0                   350.0  \n",
       "467                317.0                   358.0  \n",
       "471                444.0                   433.0  \n",
       "476                400.0                   426.0  \n",
       "477                370.0                   360.0  \n",
       "\n",
       "[421 rows x 6 columns]"
      ]
     },
     "execution_count": 4,
     "metadata": {},
     "output_type": "execute_result"
    }
   ],
   "source": [
    "dataset = dataset.dropna()\n",
    "dataset"
   ]
  },
  {
   "cell_type": "markdown",
   "metadata": {},
   "source": [
    "Those rows are deleted using dropna()."
   ]
  },
  {
   "cell_type": "markdown",
   "metadata": {},
   "source": [
    "## Remove all but 2 numerical values columns of your choice and display the reducted dataframe."
   ]
  },
  {
   "cell_type": "code",
   "execution_count": 5,
   "metadata": {},
   "outputs": [
    {
     "data": {
      "text/html": [
       "<div>\n",
       "<style scoped>\n",
       "    .dataframe tbody tr th:only-of-type {\n",
       "        vertical-align: middle;\n",
       "    }\n",
       "\n",
       "    .dataframe tbody tr th {\n",
       "        vertical-align: top;\n",
       "    }\n",
       "\n",
       "    .dataframe thead th {\n",
       "        text-align: right;\n",
       "    }\n",
       "</style>\n",
       "<table border=\"1\" class=\"dataframe\">\n",
       "  <thead>\n",
       "    <tr style=\"text-align: right;\">\n",
       "      <th></th>\n",
       "      <th>Num of SAT Test Takers</th>\n",
       "      <th>SAT Math Avg. Score</th>\n",
       "    </tr>\n",
       "  </thead>\n",
       "  <tbody>\n",
       "    <tr>\n",
       "      <th>0</th>\n",
       "      <td>29.0</td>\n",
       "      <td>404.0</td>\n",
       "    </tr>\n",
       "    <tr>\n",
       "      <th>1</th>\n",
       "      <td>91.0</td>\n",
       "      <td>423.0</td>\n",
       "    </tr>\n",
       "    <tr>\n",
       "      <th>2</th>\n",
       "      <td>70.0</td>\n",
       "      <td>402.0</td>\n",
       "    </tr>\n",
       "    <tr>\n",
       "      <th>3</th>\n",
       "      <td>7.0</td>\n",
       "      <td>401.0</td>\n",
       "    </tr>\n",
       "    <tr>\n",
       "      <th>4</th>\n",
       "      <td>44.0</td>\n",
       "      <td>433.0</td>\n",
       "    </tr>\n",
       "    <tr>\n",
       "      <th>...</th>\n",
       "      <td>...</td>\n",
       "      <td>...</td>\n",
       "    </tr>\n",
       "    <tr>\n",
       "      <th>466</th>\n",
       "      <td>23.0</td>\n",
       "      <td>358.0</td>\n",
       "    </tr>\n",
       "    <tr>\n",
       "      <th>467</th>\n",
       "      <td>24.0</td>\n",
       "      <td>317.0</td>\n",
       "    </tr>\n",
       "    <tr>\n",
       "      <th>471</th>\n",
       "      <td>32.0</td>\n",
       "      <td>444.0</td>\n",
       "    </tr>\n",
       "    <tr>\n",
       "      <th>476</th>\n",
       "      <td>8.0</td>\n",
       "      <td>400.0</td>\n",
       "    </tr>\n",
       "    <tr>\n",
       "      <th>477</th>\n",
       "      <td>9.0</td>\n",
       "      <td>370.0</td>\n",
       "    </tr>\n",
       "  </tbody>\n",
       "</table>\n",
       "<p>421 rows × 2 columns</p>\n",
       "</div>"
      ],
      "text/plain": [
       "     Num of SAT Test Takers  SAT Math Avg. Score\n",
       "0                      29.0                404.0\n",
       "1                      91.0                423.0\n",
       "2                      70.0                402.0\n",
       "3                       7.0                401.0\n",
       "4                      44.0                433.0\n",
       "..                      ...                  ...\n",
       "466                    23.0                358.0\n",
       "467                    24.0                317.0\n",
       "471                    32.0                444.0\n",
       "476                     8.0                400.0\n",
       "477                     9.0                370.0\n",
       "\n",
       "[421 rows x 2 columns]"
      ]
     },
     "execution_count": 5,
     "metadata": {},
     "output_type": "execute_result"
    }
   ],
   "source": [
    "dataset = dataset.drop(columns=[\"DBN\", \"SCHOOL NAME\", \"SAT Critical Reading Avg. Score\", \"SAT Writing Avg. Score\"])\n",
    "dataset"
   ]
  },
  {
   "cell_type": "markdown",
   "metadata": {},
   "source": [
    "DBN, SCHOOL NAME, SAT Critical Reading Avg. Score, and SAT Writing Avg. Score columns are removed.\n",
    "Therefore, leaving behind Num of SAT Test Takers and SAT Math Avg.Score columns."
   ]
  },
  {
   "cell_type": "markdown",
   "metadata": {},
   "source": [
    "## Display the average, median, and standard deviation of each of your numerical columns"
   ]
  },
  {
   "cell_type": "code",
   "execution_count": 6,
   "metadata": {},
   "outputs": [
    {
     "data": {
      "text/html": [
       "<div>\n",
       "<style scoped>\n",
       "    .dataframe tbody tr th:only-of-type {\n",
       "        vertical-align: middle;\n",
       "    }\n",
       "\n",
       "    .dataframe tbody tr th {\n",
       "        vertical-align: top;\n",
       "    }\n",
       "\n",
       "    .dataframe thead th {\n",
       "        text-align: right;\n",
       "    }\n",
       "</style>\n",
       "<table border=\"1\" class=\"dataframe\">\n",
       "  <thead>\n",
       "    <tr style=\"text-align: right;\">\n",
       "      <th></th>\n",
       "      <th>Num of SAT Test Takers</th>\n",
       "      <th>SAT Math Avg. Score</th>\n",
       "    </tr>\n",
       "  </thead>\n",
       "  <tbody>\n",
       "    <tr>\n",
       "      <th>Average</th>\n",
       "      <td>110.320665</td>\n",
       "      <td>413.368171</td>\n",
       "    </tr>\n",
       "    <tr>\n",
       "      <th>Median</th>\n",
       "      <td>62.000000</td>\n",
       "      <td>395.000000</td>\n",
       "    </tr>\n",
       "    <tr>\n",
       "      <th>Standard Deviation</th>\n",
       "      <td>155.349424</td>\n",
       "      <td>64.607787</td>\n",
       "    </tr>\n",
       "  </tbody>\n",
       "</table>\n",
       "</div>"
      ],
      "text/plain": [
       "                    Num of SAT Test Takers  SAT Math Avg. Score\n",
       "Average                         110.320665           413.368171\n",
       "Median                           62.000000           395.000000\n",
       "Standard Deviation              155.349424            64.607787"
      ]
     },
     "execution_count": 6,
     "metadata": {},
     "output_type": "execute_result"
    }
   ],
   "source": [
    "data_analysis = pd.DataFrame({\"Num of SAT Test Takers\" : [np.average(dataset[\"Num of SAT Test Takers\"]),\n",
    "                                                          np.median(dataset[\"Num of SAT Test Takers\"]),\n",
    "                                                          np.std(dataset[\"Num of SAT Test Takers\"])],\n",
    "                              \"SAT Math Avg. Score\" : [np.average(dataset[\"SAT Math Avg. Score\"]),\n",
    "                                                       np.median(dataset[\"SAT Math Avg. Score\"]),\n",
    "                                                       np.std(dataset[\"SAT Math Avg. Score\"])]})\n",
    "data_analysis.index = [\"Average\", \"Median\", \"Standard Deviation\"]\n",
    "data_analysis"
   ]
  },
  {
   "cell_type": "markdown",
   "metadata": {},
   "source": [
    "Average, median, and standard deviation of Num of SAT Test Takers and SAT Math Avg. Score columns are calculated using numpy with np.average(), np.median(), and np.std(), respectively."
   ]
  },
  {
   "cell_type": "markdown",
   "metadata": {},
   "source": [
    "## Plot two of the numerical columns one against the other in a scatter plot"
   ]
  },
  {
   "cell_type": "code",
   "execution_count": 7,
   "metadata": {},
   "outputs": [
    {
     "data": {
      "text/plain": [
       "<AxesSubplot:xlabel='SAT Math Avg. Score', ylabel='Num of SAT Test Takers'>"
      ]
     },
     "execution_count": 7,
     "metadata": {},
     "output_type": "execute_result"
    },
    {
     "data": {
      "image/png": "[encoded data removed]",
      "text/plain": [
       "<Figure size 432x288 with 1 Axes>"
      ]
     },
     "metadata": {
      "needs_background": "light"
     },
     "output_type": "display_data"
    }
   ],
   "source": [
    "dataset.plot.scatter(x=\"SAT Math Avg. Score\", y=\"Num of SAT Test Takers\", c='DarkBlue')"
   ]
  },
  {
   "cell_type": "markdown",
   "metadata": {},
   "source": [
    "Num of SAT Test Takers and SAT Math Avg. Score columns are displayed in a scatter plot using plot.scatter() function with:\n",
    "- SAT Math Avg. Score as the x-axis\n",
    "- Num of SAT Test Takers as the y-axis"
   ]
  },
  {
   "cell_type": "markdown",
   "metadata": {},
   "source": [
    "## Plot the data distribution of all your numerical columns in histogram and boxplot"
   ]
  },
  {
   "cell_type": "code",
   "execution_count": 8,
   "metadata": {},
   "outputs": [
    {
     "data": {
      "text/plain": [
       "array([[<AxesSubplot:title={'center':'Num of SAT Test Takers'}>,\n",
       "        <AxesSubplot:title={'center':'SAT Math Avg. Score'}>]],\n",
       "      dtype=object)"
      ]
     },
     "execution_count": 8,
     "metadata": {},
     "output_type": "execute_result"
    },
    {
     "data": {
      "image/png": "[encoded data removed]",
      "text/plain": [
       "<Figure size 432x288 with 2 Axes>"
      ]
     },
     "metadata": {
      "needs_background": "light"
     },
     "output_type": "display_data"
    }
   ],
   "source": [
    "dataset.hist(bins=10)"
   ]
  },
  {
   "cell_type": "markdown",
   "metadata": {},
   "source": [
    "Num of SAT Test Takers and SAT Math Avg. Score are displayed in a histogram using hist() function with 10 histogram bins."
   ]
  },
  {
   "cell_type": "code",
   "execution_count": 9,
   "metadata": {},
   "outputs": [
    {
     "data": {
      "text/plain": [
       "<AxesSubplot:>"
      ]
     },
     "execution_count": 9,
     "metadata": {},
     "output_type": "execute_result"
    },
    {
     "data": {
      "image/png": "[encoded data removed]",
      "text/plain": [
       "<Figure size 432x288 with 1 Axes>"
      ]
     },
     "metadata": {
      "needs_background": "light"
     },
     "output_type": "display_data"
    }
   ],
   "source": [
    "dataset.boxplot()"
   ]
  },
  {
   "cell_type": "markdown",
   "metadata": {},
   "source": [
    "Num of SAT Test Takers and SAT Math Avg. Score are displayed in a boxplot using boxplot() function."
   ]
  },
  {
   "cell_type": "markdown",
   "metadata": {},
   "source": [
    "## Create a new column in the same dataframe that is raised power of two of an existing column\n",
    "Example:\n",
    "![power_of_two](images/ex1.jpeg)\n"
   ]
  },
  {
   "cell_type": "code",
   "execution_count": 10,
   "metadata": {},
   "outputs": [
    {
     "data": {
      "text/html": [
       "<div>\n",
       "<style scoped>\n",
       "    .dataframe tbody tr th:only-of-type {\n",
       "        vertical-align: middle;\n",
       "    }\n",
       "\n",
       "    .dataframe tbody tr th {\n",
       "        vertical-align: top;\n",
       "    }\n",
       "\n",
       "    .dataframe thead th {\n",
       "        text-align: right;\n",
       "    }\n",
       "</style>\n",
       "<table border=\"1\" class=\"dataframe\">\n",
       "  <thead>\n",
       "    <tr style=\"text-align: right;\">\n",
       "      <th></th>\n",
       "      <th>Num of SAT Test Takers</th>\n",
       "      <th>SAT Math Avg. Score</th>\n",
       "      <th>Raised Power (Num of SAT Test Takers)</th>\n",
       "      <th>Raised Power (SAT Math Avg. Score)</th>\n",
       "    </tr>\n",
       "  </thead>\n",
       "  <tbody>\n",
       "    <tr>\n",
       "      <th>0</th>\n",
       "      <td>29.0</td>\n",
       "      <td>404.0</td>\n",
       "      <td>841.0</td>\n",
       "      <td>163216.0</td>\n",
       "    </tr>\n",
       "    <tr>\n",
       "      <th>1</th>\n",
       "      <td>91.0</td>\n",
       "      <td>423.0</td>\n",
       "      <td>8281.0</td>\n",
       "      <td>178929.0</td>\n",
       "    </tr>\n",
       "    <tr>\n",
       "      <th>2</th>\n",
       "      <td>70.0</td>\n",
       "      <td>402.0</td>\n",
       "      <td>4900.0</td>\n",
       "      <td>161604.0</td>\n",
       "    </tr>\n",
       "    <tr>\n",
       "      <th>3</th>\n",
       "      <td>7.0</td>\n",
       "      <td>401.0</td>\n",
       "      <td>49.0</td>\n",
       "      <td>160801.0</td>\n",
       "    </tr>\n",
       "    <tr>\n",
       "      <th>4</th>\n",
       "      <td>44.0</td>\n",
       "      <td>433.0</td>\n",
       "      <td>1936.0</td>\n",
       "      <td>187489.0</td>\n",
       "    </tr>\n",
       "    <tr>\n",
       "      <th>...</th>\n",
       "      <td>...</td>\n",
       "      <td>...</td>\n",
       "      <td>...</td>\n",
       "      <td>...</td>\n",
       "    </tr>\n",
       "    <tr>\n",
       "      <th>466</th>\n",
       "      <td>23.0</td>\n",
       "      <td>358.0</td>\n",
       "      <td>529.0</td>\n",
       "      <td>128164.0</td>\n",
       "    </tr>\n",
       "    <tr>\n",
       "      <th>467</th>\n",
       "      <td>24.0</td>\n",
       "      <td>317.0</td>\n",
       "      <td>576.0</td>\n",
       "      <td>100489.0</td>\n",
       "    </tr>\n",
       "    <tr>\n",
       "      <th>471</th>\n",
       "      <td>32.0</td>\n",
       "      <td>444.0</td>\n",
       "      <td>1024.0</td>\n",
       "      <td>197136.0</td>\n",
       "    </tr>\n",
       "    <tr>\n",
       "      <th>476</th>\n",
       "      <td>8.0</td>\n",
       "      <td>400.0</td>\n",
       "      <td>64.0</td>\n",
       "      <td>160000.0</td>\n",
       "    </tr>\n",
       "    <tr>\n",
       "      <th>477</th>\n",
       "      <td>9.0</td>\n",
       "      <td>370.0</td>\n",
       "      <td>81.0</td>\n",
       "      <td>136900.0</td>\n",
       "    </tr>\n",
       "  </tbody>\n",
       "</table>\n",
       "<p>421 rows × 4 columns</p>\n",
       "</div>"
      ],
      "text/plain": [
       "     Num of SAT Test Takers  SAT Math Avg. Score  \\\n",
       "0                      29.0                404.0   \n",
       "1                      91.0                423.0   \n",
       "2                      70.0                402.0   \n",
       "3                       7.0                401.0   \n",
       "4                      44.0                433.0   \n",
       "..                      ...                  ...   \n",
       "466                    23.0                358.0   \n",
       "467                    24.0                317.0   \n",
       "471                    32.0                444.0   \n",
       "476                     8.0                400.0   \n",
       "477                     9.0                370.0   \n",
       "\n",
       "     Raised Power (Num of SAT Test Takers)  Raised Power (SAT Math Avg. Score)  \n",
       "0                                    841.0                            163216.0  \n",
       "1                                   8281.0                            178929.0  \n",
       "2                                   4900.0                            161604.0  \n",
       "3                                     49.0                            160801.0  \n",
       "4                                   1936.0                            187489.0  \n",
       "..                                     ...                                 ...  \n",
       "466                                  529.0                            128164.0  \n",
       "467                                  576.0                            100489.0  \n",
       "471                                 1024.0                            197136.0  \n",
       "476                                   64.0                            160000.0  \n",
       "477                                   81.0                            136900.0  \n",
       "\n",
       "[421 rows x 4 columns]"
      ]
     },
     "execution_count": 10,
     "metadata": {},
     "output_type": "execute_result"
    }
   ],
   "source": [
    "dataset[\"Raised Power (Num of SAT Test Takers)\"] = np.power((dataset[\"Num of SAT Test Takers\"]), 2)\n",
    "dataset[\"Raised Power (SAT Math Avg. Score)\"] = np.power((dataset[\"SAT Math Avg. Score\"]), 2)\n",
    "dataset"
   ]
  },
  {
   "cell_type": "markdown",
   "metadata": {},
   "source": [
    "Raised power can be calculated using numpy with np.power() function."
   ]
  },
  {
   "cell_type": "markdown",
   "metadata": {},
   "source": [
    "# Citi Bike investigation\n",
    "![citi-bike](images/citibike.jpeg)\n",
    ">Citi Bike is the largest bike share program in the US, with 20,000 bikes and over 1,300 stations across Manhattan, Brooklyn, Queens, the Bronx and Jersey City. It was designed for quick trips with convenience in mind, and it’s a fun and affordable way to get around town."
   ]
  },
  {
   "cell_type": "markdown",
   "metadata": {},
   "source": [
    "## Choose a citibikes dataset (one or two months, earlier datasets are convenient because they are smaller)"
   ]
  },
  {
   "cell_type": "markdown",
   "metadata": {},
   "source": [
    "Example for downloading September 2017 Citibike data:\n",
    "```\n",
    "! month=201709\n",
    "! curl https://s3.amazonaws.com/tripdata/$month-citibike-tripdata.csv.zip >> $month-citibike-tripdata.csv.zip\n",
    "! unzip $month-citibike-tripdata.csv.zip\n",
    "```"
   ]
  },
  {
   "cell_type": "code",
   "execution_count": 11,
   "metadata": {},
   "outputs": [
    {
     "data": {
      "text/html": [
       "<div>\n",
       "<style scoped>\n",
       "    .dataframe tbody tr th:only-of-type {\n",
       "        vertical-align: middle;\n",
       "    }\n",
       "\n",
       "    .dataframe tbody tr th {\n",
       "        vertical-align: top;\n",
       "    }\n",
       "\n",
       "    .dataframe thead th {\n",
       "        text-align: right;\n",
       "    }\n",
       "</style>\n",
       "<table border=\"1\" class=\"dataframe\">\n",
       "  <thead>\n",
       "    <tr style=\"text-align: right;\">\n",
       "      <th></th>\n",
       "      <th>tripduration</th>\n",
       "      <th>starttime</th>\n",
       "      <th>stoptime</th>\n",
       "      <th>start station id</th>\n",
       "      <th>start station name</th>\n",
       "      <th>start station latitude</th>\n",
       "      <th>start station longitude</th>\n",
       "      <th>end station id</th>\n",
       "      <th>end station name</th>\n",
       "      <th>end station latitude</th>\n",
       "      <th>end station longitude</th>\n",
       "      <th>bikeid</th>\n",
       "      <th>usertype</th>\n",
       "      <th>birth year</th>\n",
       "      <th>gender</th>\n",
       "    </tr>\n",
       "  </thead>\n",
       "  <tbody>\n",
       "    <tr>\n",
       "      <th>0</th>\n",
       "      <td>362</td>\n",
       "      <td>2017-09-01 00:00:17</td>\n",
       "      <td>2017-09-01 00:06:19</td>\n",
       "      <td>3331</td>\n",
       "      <td>Riverside Dr &amp; W 104 St</td>\n",
       "      <td>40.801343</td>\n",
       "      <td>-73.971146</td>\n",
       "      <td>3328</td>\n",
       "      <td>W 100 St &amp; Manhattan Ave</td>\n",
       "      <td>40.795000</td>\n",
       "      <td>-73.964500</td>\n",
       "      <td>14530</td>\n",
       "      <td>Subscriber</td>\n",
       "      <td>1993.0</td>\n",
       "      <td>1</td>\n",
       "    </tr>\n",
       "    <tr>\n",
       "      <th>1</th>\n",
       "      <td>188</td>\n",
       "      <td>2017-09-01 00:00:21</td>\n",
       "      <td>2017-09-01 00:03:30</td>\n",
       "      <td>3101</td>\n",
       "      <td>N 12 St &amp; Bedford Ave</td>\n",
       "      <td>40.720798</td>\n",
       "      <td>-73.954847</td>\n",
       "      <td>3100</td>\n",
       "      <td>Nassau Ave &amp; Newell St</td>\n",
       "      <td>40.724813</td>\n",
       "      <td>-73.947526</td>\n",
       "      <td>15475</td>\n",
       "      <td>Subscriber</td>\n",
       "      <td>1988.0</td>\n",
       "      <td>1</td>\n",
       "    </tr>\n",
       "    <tr>\n",
       "      <th>2</th>\n",
       "      <td>305</td>\n",
       "      <td>2017-09-01 00:00:25</td>\n",
       "      <td>2017-09-01 00:05:30</td>\n",
       "      <td>3140</td>\n",
       "      <td>1 Ave &amp; E 78 St</td>\n",
       "      <td>40.771404</td>\n",
       "      <td>-73.953517</td>\n",
       "      <td>3141</td>\n",
       "      <td>1 Ave &amp; E 68 St</td>\n",
       "      <td>40.765005</td>\n",
       "      <td>-73.958185</td>\n",
       "      <td>30346</td>\n",
       "      <td>Subscriber</td>\n",
       "      <td>1969.0</td>\n",
       "      <td>1</td>\n",
       "    </tr>\n",
       "    <tr>\n",
       "      <th>3</th>\n",
       "      <td>223</td>\n",
       "      <td>2017-09-01 00:00:52</td>\n",
       "      <td>2017-09-01 00:04:36</td>\n",
       "      <td>236</td>\n",
       "      <td>St Marks Pl &amp; 2 Ave</td>\n",
       "      <td>40.728419</td>\n",
       "      <td>-73.987140</td>\n",
       "      <td>473</td>\n",
       "      <td>Rivington St &amp; Chrystie St</td>\n",
       "      <td>40.721101</td>\n",
       "      <td>-73.991925</td>\n",
       "      <td>28056</td>\n",
       "      <td>Subscriber</td>\n",
       "      <td>1993.0</td>\n",
       "      <td>1</td>\n",
       "    </tr>\n",
       "    <tr>\n",
       "      <th>4</th>\n",
       "      <td>758</td>\n",
       "      <td>2017-09-01 00:01:01</td>\n",
       "      <td>2017-09-01 00:13:40</td>\n",
       "      <td>3427</td>\n",
       "      <td>Lafayette St &amp; Jersey St</td>\n",
       "      <td>40.724305</td>\n",
       "      <td>-73.996010</td>\n",
       "      <td>3431</td>\n",
       "      <td>E 35 St &amp; 3 Ave</td>\n",
       "      <td>40.746524</td>\n",
       "      <td>-73.977885</td>\n",
       "      <td>25413</td>\n",
       "      <td>Subscriber</td>\n",
       "      <td>1987.0</td>\n",
       "      <td>1</td>\n",
       "    </tr>\n",
       "    <tr>\n",
       "      <th>...</th>\n",
       "      <td>...</td>\n",
       "      <td>...</td>\n",
       "      <td>...</td>\n",
       "      <td>...</td>\n",
       "      <td>...</td>\n",
       "      <td>...</td>\n",
       "      <td>...</td>\n",
       "      <td>...</td>\n",
       "      <td>...</td>\n",
       "      <td>...</td>\n",
       "      <td>...</td>\n",
       "      <td>...</td>\n",
       "      <td>...</td>\n",
       "      <td>...</td>\n",
       "      <td>...</td>\n",
       "    </tr>\n",
       "    <tr>\n",
       "      <th>1878093</th>\n",
       "      <td>621</td>\n",
       "      <td>2017-09-30 23:59:30</td>\n",
       "      <td>2017-10-01 00:09:52</td>\n",
       "      <td>3366</td>\n",
       "      <td>West End Ave &amp; W 107 St</td>\n",
       "      <td>40.802117</td>\n",
       "      <td>-73.968181</td>\n",
       "      <td>3540</td>\n",
       "      <td>Morningside Ave &amp; W 123 St</td>\n",
       "      <td>40.810000</td>\n",
       "      <td>-73.955151</td>\n",
       "      <td>28812</td>\n",
       "      <td>Subscriber</td>\n",
       "      <td>1980.0</td>\n",
       "      <td>2</td>\n",
       "    </tr>\n",
       "    <tr>\n",
       "      <th>1878094</th>\n",
       "      <td>656</td>\n",
       "      <td>2017-09-30 23:59:33</td>\n",
       "      <td>2017-10-01 00:10:30</td>\n",
       "      <td>3163</td>\n",
       "      <td>Central Park West &amp; W 68 St</td>\n",
       "      <td>40.773407</td>\n",
       "      <td>-73.977825</td>\n",
       "      <td>479</td>\n",
       "      <td>9 Ave &amp; W 45 St</td>\n",
       "      <td>40.760193</td>\n",
       "      <td>-73.991255</td>\n",
       "      <td>19088</td>\n",
       "      <td>Subscriber</td>\n",
       "      <td>1986.0</td>\n",
       "      <td>1</td>\n",
       "    </tr>\n",
       "    <tr>\n",
       "      <th>1878095</th>\n",
       "      <td>516</td>\n",
       "      <td>2017-09-30 23:59:40</td>\n",
       "      <td>2017-10-01 00:08:16</td>\n",
       "      <td>3224</td>\n",
       "      <td>W 13 St &amp; Hudson St</td>\n",
       "      <td>40.739974</td>\n",
       "      <td>-74.005139</td>\n",
       "      <td>382</td>\n",
       "      <td>University Pl &amp; E 14 St</td>\n",
       "      <td>40.734927</td>\n",
       "      <td>-73.992005</td>\n",
       "      <td>29922</td>\n",
       "      <td>Subscriber</td>\n",
       "      <td>NaN</td>\n",
       "      <td>0</td>\n",
       "    </tr>\n",
       "    <tr>\n",
       "      <th>1878096</th>\n",
       "      <td>1039</td>\n",
       "      <td>2017-09-30 23:59:49</td>\n",
       "      <td>2017-10-01 00:17:08</td>\n",
       "      <td>3167</td>\n",
       "      <td>Amsterdam Ave &amp; W 73 St</td>\n",
       "      <td>40.779668</td>\n",
       "      <td>-73.980930</td>\n",
       "      <td>3336</td>\n",
       "      <td>E 97 St &amp; Madison Ave</td>\n",
       "      <td>40.787801</td>\n",
       "      <td>-73.953559</td>\n",
       "      <td>26007</td>\n",
       "      <td>Subscriber</td>\n",
       "      <td>1990.0</td>\n",
       "      <td>1</td>\n",
       "    </tr>\n",
       "    <tr>\n",
       "      <th>1878097</th>\n",
       "      <td>621</td>\n",
       "      <td>2017-09-30 23:59:52</td>\n",
       "      <td>2017-10-01 00:10:13</td>\n",
       "      <td>3462</td>\n",
       "      <td>E 44 St &amp; 2 Ave</td>\n",
       "      <td>40.751184</td>\n",
       "      <td>-73.971387</td>\n",
       "      <td>237</td>\n",
       "      <td>E 11 St &amp; 2 Ave</td>\n",
       "      <td>40.730473</td>\n",
       "      <td>-73.986724</td>\n",
       "      <td>29366</td>\n",
       "      <td>Subscriber</td>\n",
       "      <td>1996.0</td>\n",
       "      <td>2</td>\n",
       "    </tr>\n",
       "  </tbody>\n",
       "</table>\n",
       "<p>1878098 rows × 15 columns</p>\n",
       "</div>"
      ],
      "text/plain": [
       "         tripduration            starttime             stoptime  \\\n",
       "0                 362  2017-09-01 00:00:17  2017-09-01 00:06:19   \n",
       "1                 188  2017-09-01 00:00:21  2017-09-01 00:03:30   \n",
       "2                 305  2017-09-01 00:00:25  2017-09-01 00:05:30   \n",
       "3                 223  2017-09-01 00:00:52  2017-09-01 00:04:36   \n",
       "4                 758  2017-09-01 00:01:01  2017-09-01 00:13:40   \n",
       "...               ...                  ...                  ...   \n",
       "1878093           621  2017-09-30 23:59:30  2017-10-01 00:09:52   \n",
       "1878094           656  2017-09-30 23:59:33  2017-10-01 00:10:30   \n",
       "1878095           516  2017-09-30 23:59:40  2017-10-01 00:08:16   \n",
       "1878096          1039  2017-09-30 23:59:49  2017-10-01 00:17:08   \n",
       "1878097           621  2017-09-30 23:59:52  2017-10-01 00:10:13   \n",
       "\n",
       "         start station id           start station name  \\\n",
       "0                    3331      Riverside Dr & W 104 St   \n",
       "1                    3101        N 12 St & Bedford Ave   \n",
       "2                    3140              1 Ave & E 78 St   \n",
       "3                     236          St Marks Pl & 2 Ave   \n",
       "4                    3427     Lafayette St & Jersey St   \n",
       "...                   ...                          ...   \n",
       "1878093              3366      West End Ave & W 107 St   \n",
       "1878094              3163  Central Park West & W 68 St   \n",
       "1878095              3224          W 13 St & Hudson St   \n",
       "1878096              3167      Amsterdam Ave & W 73 St   \n",
       "1878097              3462              E 44 St & 2 Ave   \n",
       "\n",
       "         start station latitude  start station longitude  end station id  \\\n",
       "0                     40.801343               -73.971146            3328   \n",
       "1                     40.720798               -73.954847            3100   \n",
       "2                     40.771404               -73.953517            3141   \n",
       "3                     40.728419               -73.987140             473   \n",
       "4                     40.724305               -73.996010            3431   \n",
       "...                         ...                      ...             ...   \n",
       "1878093               40.802117               -73.968181            3540   \n",
       "1878094               40.773407               -73.977825             479   \n",
       "1878095               40.739974               -74.005139             382   \n",
       "1878096               40.779668               -73.980930            3336   \n",
       "1878097               40.751184               -73.971387             237   \n",
       "\n",
       "                   end station name  end station latitude  \\\n",
       "0          W 100 St & Manhattan Ave             40.795000   \n",
       "1            Nassau Ave & Newell St             40.724813   \n",
       "2                   1 Ave & E 68 St             40.765005   \n",
       "3        Rivington St & Chrystie St             40.721101   \n",
       "4                   E 35 St & 3 Ave             40.746524   \n",
       "...                             ...                   ...   \n",
       "1878093  Morningside Ave & W 123 St             40.810000   \n",
       "1878094             9 Ave & W 45 St             40.760193   \n",
       "1878095     University Pl & E 14 St             40.734927   \n",
       "1878096       E 97 St & Madison Ave             40.787801   \n",
       "1878097             E 11 St & 2 Ave             40.730473   \n",
       "\n",
       "         end station longitude  bikeid    usertype  birth year  gender  \n",
       "0                   -73.964500   14530  Subscriber      1993.0       1  \n",
       "1                   -73.947526   15475  Subscriber      1988.0       1  \n",
       "2                   -73.958185   30346  Subscriber      1969.0       1  \n",
       "3                   -73.991925   28056  Subscriber      1993.0       1  \n",
       "4                   -73.977885   25413  Subscriber      1987.0       1  \n",
       "...                        ...     ...         ...         ...     ...  \n",
       "1878093             -73.955151   28812  Subscriber      1980.0       2  \n",
       "1878094             -73.991255   19088  Subscriber      1986.0       1  \n",
       "1878095             -73.992005   29922  Subscriber         NaN       0  \n",
       "1878096             -73.953559   26007  Subscriber      1990.0       1  \n",
       "1878097             -73.986724   29366  Subscriber      1996.0       2  \n",
       "\n",
       "[1878098 rows x 15 columns]"
      ]
     },
     "execution_count": 11,
     "metadata": {},
     "output_type": "execute_result"
    }
   ],
   "source": [
    "import pandas as pd\n",
    "dataset = pd.read_csv('201709-citibike-tripdata.csv')\n",
    "dataset"
   ]
  },
  {
   "cell_type": "markdown",
   "metadata": {},
   "source": [
    "The dataset used is 201709-citibike-tripdata. Pandas is utilized to read the .csv file."
   ]
  },
  {
   "cell_type": "markdown",
   "metadata": {},
   "source": [
    "## Count the number of missing values of each column"
   ]
  },
  {
   "cell_type": "code",
   "execution_count": 12,
   "metadata": {},
   "outputs": [
    {
     "data": {
      "text/plain": [
       "tripduration                    0\n",
       "starttime                       0\n",
       "stoptime                        0\n",
       "start station id                0\n",
       "start station name              0\n",
       "start station latitude          0\n",
       "start station longitude         0\n",
       "end station id                  0\n",
       "end station name                0\n",
       "end station latitude            0\n",
       "end station longitude           0\n",
       "bikeid                          0\n",
       "usertype                        0\n",
       "birth year                 207468\n",
       "gender                          0\n",
       "dtype: int64"
      ]
     },
     "execution_count": 12,
     "metadata": {},
     "output_type": "execute_result"
    }
   ],
   "source": [
    "np.sum(dataset.isnull())"
   ]
  },
  {
   "cell_type": "markdown",
   "metadata": {},
   "source": [
    "dataset.isnull() checks if there are null values in the dataset. As shown above, there are null values in 207468 rows of birth year column."
   ]
  },
  {
   "cell_type": "markdown",
   "metadata": {},
   "source": [
    "## Who rides citibikes? Show ridership distribution by gender, user type, and age\n",
    "Process the data and plot your answers"
   ]
  },
  {
   "cell_type": "code",
   "execution_count": 13,
   "metadata": {},
   "outputs": [
    {
     "data": {
      "text/html": [
       "<div>\n",
       "<style scoped>\n",
       "    .dataframe tbody tr th:only-of-type {\n",
       "        vertical-align: middle;\n",
       "    }\n",
       "\n",
       "    .dataframe tbody tr th {\n",
       "        vertical-align: top;\n",
       "    }\n",
       "\n",
       "    .dataframe thead th {\n",
       "        text-align: right;\n",
       "    }\n",
       "</style>\n",
       "<table border=\"1\" class=\"dataframe\">\n",
       "  <thead>\n",
       "    <tr style=\"text-align: right;\">\n",
       "      <th></th>\n",
       "      <th>gender</th>\n",
       "      <th>usertype</th>\n",
       "      <th>age</th>\n",
       "    </tr>\n",
       "  </thead>\n",
       "  <tbody>\n",
       "    <tr>\n",
       "      <th>0</th>\n",
       "      <td>1</td>\n",
       "      <td>Subscriber</td>\n",
       "      <td>24.0</td>\n",
       "    </tr>\n",
       "    <tr>\n",
       "      <th>1</th>\n",
       "      <td>1</td>\n",
       "      <td>Subscriber</td>\n",
       "      <td>29.0</td>\n",
       "    </tr>\n",
       "    <tr>\n",
       "      <th>2</th>\n",
       "      <td>1</td>\n",
       "      <td>Subscriber</td>\n",
       "      <td>48.0</td>\n",
       "    </tr>\n",
       "    <tr>\n",
       "      <th>3</th>\n",
       "      <td>1</td>\n",
       "      <td>Subscriber</td>\n",
       "      <td>24.0</td>\n",
       "    </tr>\n",
       "    <tr>\n",
       "      <th>4</th>\n",
       "      <td>1</td>\n",
       "      <td>Subscriber</td>\n",
       "      <td>30.0</td>\n",
       "    </tr>\n",
       "    <tr>\n",
       "      <th>...</th>\n",
       "      <td>...</td>\n",
       "      <td>...</td>\n",
       "      <td>...</td>\n",
       "    </tr>\n",
       "    <tr>\n",
       "      <th>1878093</th>\n",
       "      <td>2</td>\n",
       "      <td>Subscriber</td>\n",
       "      <td>37.0</td>\n",
       "    </tr>\n",
       "    <tr>\n",
       "      <th>1878094</th>\n",
       "      <td>1</td>\n",
       "      <td>Subscriber</td>\n",
       "      <td>31.0</td>\n",
       "    </tr>\n",
       "    <tr>\n",
       "      <th>1878095</th>\n",
       "      <td>0</td>\n",
       "      <td>Subscriber</td>\n",
       "      <td>NaN</td>\n",
       "    </tr>\n",
       "    <tr>\n",
       "      <th>1878096</th>\n",
       "      <td>1</td>\n",
       "      <td>Subscriber</td>\n",
       "      <td>27.0</td>\n",
       "    </tr>\n",
       "    <tr>\n",
       "      <th>1878097</th>\n",
       "      <td>2</td>\n",
       "      <td>Subscriber</td>\n",
       "      <td>21.0</td>\n",
       "    </tr>\n",
       "  </tbody>\n",
       "</table>\n",
       "<p>1878098 rows × 3 columns</p>\n",
       "</div>"
      ],
      "text/plain": [
       "         gender    usertype   age\n",
       "0             1  Subscriber  24.0\n",
       "1             1  Subscriber  29.0\n",
       "2             1  Subscriber  48.0\n",
       "3             1  Subscriber  24.0\n",
       "4             1  Subscriber  30.0\n",
       "...         ...         ...   ...\n",
       "1878093       2  Subscriber  37.0\n",
       "1878094       1  Subscriber  31.0\n",
       "1878095       0  Subscriber   NaN\n",
       "1878096       1  Subscriber  27.0\n",
       "1878097       2  Subscriber  21.0\n",
       "\n",
       "[1878098 rows x 3 columns]"
      ]
     },
     "execution_count": 13,
     "metadata": {},
     "output_type": "execute_result"
    }
   ],
   "source": [
    "def age(born):\n",
    "    return 2017 - born\n",
    "\n",
    "dataset[\"age\"] = dataset[\"birth year\"].apply(age)\n",
    "dataset[[\"gender\", \"usertype\", \"age\"]]"
   ]
  },
  {
   "cell_type": "markdown",
   "metadata": {},
   "source": [
    "First, the age is calculated using a function that substracts 2017 (year of the dataset) with the birth year."
   ]
  },
  {
   "cell_type": "code",
   "execution_count": 14,
   "metadata": {},
   "outputs": [
    {
     "data": {
      "text/plain": [
       "0     215442\n",
       "1    1218524\n",
       "2     444132\n",
       "Name: gender, dtype: int64"
      ]
     },
     "execution_count": 14,
     "metadata": {},
     "output_type": "execute_result"
    }
   ],
   "source": [
    "dataset[\"gender\"].value_counts(sort=False)"
   ]
  },
  {
   "cell_type": "code",
   "execution_count": 15,
   "metadata": {},
   "outputs": [
    {
     "data": {
      "text/plain": [
       "<AxesSubplot:>"
      ]
     },
     "execution_count": 15,
     "metadata": {},
     "output_type": "execute_result"
    },
    {
     "data": {
      "image/png": "[encoded data removed]",
      "text/plain": [
       "<Figure size 432x288 with 1 Axes>"
      ]
     },
     "metadata": {
      "needs_background": "light"
     },
     "output_type": "display_data"
    }
   ],
   "source": [
    "dataset[\"gender\"].hist()"
   ]
  },
  {
   "cell_type": "markdown",
   "metadata": {},
   "source": [
    "The histogram above shows that men are the ones who rides citibikes mostly, with the exact number of 1218524."
   ]
  },
  {
   "cell_type": "code",
   "execution_count": 16,
   "metadata": {},
   "outputs": [
    {
     "data": {
      "text/plain": [
       "Subscriber    1643109\n",
       "Customer       234989\n",
       "Name: usertype, dtype: int64"
      ]
     },
     "execution_count": 16,
     "metadata": {},
     "output_type": "execute_result"
    }
   ],
   "source": [
    "dataset[\"usertype\"].value_counts(sort=False)"
   ]
  },
  {
   "cell_type": "code",
   "execution_count": 17,
   "metadata": {},
   "outputs": [
    {
     "data": {
      "text/plain": [
       "<AxesSubplot:>"
      ]
     },
     "execution_count": 17,
     "metadata": {},
     "output_type": "execute_result"
    },
    {
     "data": {
      "image/png": "[encoded data removed]",
      "text/plain": [
       "<Figure size 432x288 with 1 Axes>"
      ]
     },
     "metadata": {
      "needs_background": "light"
     },
     "output_type": "display_data"
    }
   ],
   "source": [
    "dataset[\"usertype\"].hist()"
   ]
  },
  {
   "cell_type": "markdown",
   "metadata": {},
   "source": [
    "The histogram above shows that subscribers are the ones who rides citibikes mostly, with the exact number of 1643109."
   ]
  },
  {
   "cell_type": "code",
   "execution_count": 18,
   "metadata": {},
   "outputs": [
    {
     "data": {
      "text/plain": [
       "1-10           0\n",
       "11-20      32071\n",
       "21-30     541359\n",
       "31-40     517633\n",
       "41-50     313955\n",
       "51-60     195744\n",
       "61-70      60844\n",
       "71-80       7877\n",
       "81-90        487\n",
       "91-100       162\n",
       "101+         498\n",
       "Name: age, dtype: int64"
      ]
     },
     "execution_count": 18,
     "metadata": {},
     "output_type": "execute_result"
    }
   ],
   "source": [
    "age_distribution = pd.cut(dataset[\"age\"], bins=[0, 10, 20, 30, 40, 50, 60, 70, 80, 90, 100, np.inf], include_lowest=True,\n",
    "                          labels=['1-10', '11-20', '21-30', '31-40', '41-50', '51-60',\n",
    "                                  '61-70', '71-80', '81-90', '91-100', '101+']).sort_values()\n",
    "age_distribution.value_counts(sort=False)"
   ]
  },
  {
   "cell_type": "code",
   "execution_count": 19,
   "metadata": {},
   "outputs": [
    {
     "data": {
      "text/plain": [
       "<AxesSubplot:>"
      ]
     },
     "execution_count": 19,
     "metadata": {},
     "output_type": "execute_result"
    },
    {
     "data": {
      "image/png": "[encoded data removed]",
      "text/plain": [
       "<Figure size 432x288 with 1 Axes>"
      ]
     },
     "metadata": {
      "needs_background": "light"
     },
     "output_type": "display_data"
    }
   ],
   "source": [
    "age_distribution.hist()"
   ]
  },
  {
   "cell_type": "markdown",
   "metadata": {},
   "source": [
    "To get a clearer insight of the age distribution, it is grouped into several ranges as shown above. The histogram above shows that people in the age of 21-30 are the ones who rides citibikes mostly, with the exact number of 541359."
   ]
  },
  {
   "cell_type": "markdown",
   "metadata": {},
   "source": [
    "## What is the average number of trips per day?"
   ]
  },
  {
   "cell_type": "code",
   "execution_count": 20,
   "metadata": {},
   "outputs": [
    {
     "data": {
      "text/plain": [
       "62603.26666666667"
      ]
     },
     "execution_count": 20,
     "metadata": {},
     "output_type": "execute_result"
    }
   ],
   "source": [
    "dataset[\"starttime\"] = pd.to_datetime(dataset['starttime'], format=\"%Y/%m/%d %H:%M:%S\")\n",
    "data_date = dataset['starttime'].dt.date\n",
    "data_date.value_counts().mean()"
   ]
  },
  {
   "cell_type": "markdown",
   "metadata": {},
   "source": [
    "First, starttime column needs to be converted into datetime type. From the starttime column, the date (without time) is stored in data_date. To count average, mean() function is used. As shown above, the average number of trips per day is 62603."
   ]
  },
  {
   "cell_type": "markdown",
   "metadata": {},
   "source": [
    "## What is the average trip duration?"
   ]
  },
  {
   "cell_type": "code",
   "execution_count": 21,
   "metadata": {},
   "outputs": [
    {
     "data": {
      "text/plain": [
       "997.0888920599458"
      ]
     },
     "execution_count": 21,
     "metadata": {},
     "output_type": "execute_result"
    }
   ],
   "source": [
    "dataset[\"tripduration\"].mean()"
   ]
  },
  {
   "cell_type": "markdown",
   "metadata": {},
   "source": [
    "To count average, mean() function is used. As shown above, the average trip duration is 997."
   ]
  },
  {
   "cell_type": "markdown",
   "metadata": {},
   "source": [
    "## What days of the week are most rides taken on?\n",
    "Process the data and plot your answer"
   ]
  },
  {
   "cell_type": "code",
   "execution_count": 22,
   "metadata": {},
   "outputs": [
    {
     "data": {
      "text/plain": [
       "{'Monday': 260532,\n",
       " 'Tuesday': 269453,\n",
       " 'Wednesday': 252908,\n",
       " 'Thursday': 280215,\n",
       " 'Friday': 334056,\n",
       " 'Saturday': 271843,\n",
       " 'Sunday': 209091}"
      ]
     },
     "execution_count": 22,
     "metadata": {},
     "output_type": "execute_result"
    }
   ],
   "source": [
    "data_day = dataset['starttime'].dt.day_name()\n",
    "data_day = dict(data_day.value_counts()[[\"Monday\", \"Tuesday\", \"Wednesday\", \"Thursday\", \"Friday\", \"Saturday\", \"Sunday\"]])\n",
    "data_day"
   ]
  },
  {
   "cell_type": "code",
   "execution_count": 23,
   "metadata": {},
   "outputs": [
    {
     "data": {
      "image/png": "[encoded data removed]",
      "text/plain": [
       "<Figure size 432x288 with 1 Axes>"
      ]
     },
     "metadata": {
      "needs_background": "light"
     },
     "output_type": "display_data"
    }
   ],
   "source": [
    "import matplotlib.pyplot as plt\n",
    "plt.bar(range(len(data_day)), list(data_day.values()), tick_label=list(data_day.keys()))\n",
    "plt.show()"
   ]
  },
  {
   "cell_type": "markdown",
   "metadata": {},
   "source": [
    "day_name() returns the day names of the DateTimeIndex. As shown above, Friday is the day where most rides taken on, with the exact number of 334056."
   ]
  },
  {
   "cell_type": "markdown",
   "metadata": {},
   "source": [
    "## What hour of the day are most rides taken on?\n",
    "Process the data and plot your answer"
   ]
  },
  {
   "cell_type": "code",
   "execution_count": 24,
   "metadata": {},
   "outputs": [
    {
     "data": {
      "text/plain": [
       "{0: 16915,\n",
       " 1: 9317,\n",
       " 2: 5268,\n",
       " 3: 3149,\n",
       " 4: 3213,\n",
       " 5: 10807,\n",
       " 6: 39871,\n",
       " 7: 87898,\n",
       " 8: 146721,\n",
       " 9: 112511,\n",
       " 10: 84383,\n",
       " 11: 89960,\n",
       " 12: 105108,\n",
       " 13: 109168,\n",
       " 14: 111404,\n",
       " 15: 115229,\n",
       " 16: 133785,\n",
       " 17: 185563,\n",
       " 18: 183943,\n",
       " 19: 121029,\n",
       " 20: 77871,\n",
       " 21: 55828,\n",
       " 22: 41058,\n",
       " 23: 28099}"
      ]
     },
     "execution_count": 24,
     "metadata": {},
     "output_type": "execute_result"
    }
   ],
   "source": [
    "data_hour = dataset['starttime'].dt.hour\n",
    "data_hour = dict(data_hour.value_counts(sort=False))\n",
    "data_hour"
   ]
  },
  {
   "cell_type": "code",
   "execution_count": 25,
   "metadata": {},
   "outputs": [
    {
     "data": {
      "image/png": "[encoded data removed]",
      "text/plain": [
       "<Figure size 432x288 with 1 Axes>"
      ]
     },
     "metadata": {
      "needs_background": "light"
     },
     "output_type": "display_data"
    }
   ],
   "source": [
    "import matplotlib.pyplot as plt\n",
    "plt.bar(range(len(data_hour)), list(data_hour.values()), tick_label=list(data_hour.keys()))\n",
    "plt.show()"
   ]
  },
  {
   "cell_type": "markdown",
   "metadata": {},
   "source": [
    "dt.hour is used to get hours of the datetime. As shown above, Hour 17 is the hour where most rides taken on, with the exact number of 185563."
   ]
  },
  {
   "cell_type": "markdown",
   "metadata": {},
   "source": [
    "## Is there correlation between age and trip duration?"
   ]
  },
  {
   "cell_type": "code",
   "execution_count": 26,
   "metadata": {},
   "outputs": [
    {
     "data": {
      "text/plain": [
       "<AxesSubplot:>"
      ]
     },
     "execution_count": 26,
     "metadata": {},
     "output_type": "execute_result"
    },
    {
     "data": {
      "image/png": "[encoded data removed]",
      "text/plain": [
       "<Figure size 432x288 with 2 Axes>"
      ]
     },
     "metadata": {
      "needs_background": "light"
     },
     "output_type": "display_data"
    }
   ],
   "source": [
    "import seaborn as sns\n",
    "sns.heatmap(dataset.corr())"
   ]
  },
  {
   "cell_type": "code",
   "execution_count": 27,
   "metadata": {
    "scrolled": false
   },
   "outputs": [
    {
     "data": {
      "text/html": [
       "<div>\n",
       "<style scoped>\n",
       "    .dataframe tbody tr th:only-of-type {\n",
       "        vertical-align: middle;\n",
       "    }\n",
       "\n",
       "    .dataframe tbody tr th {\n",
       "        vertical-align: top;\n",
       "    }\n",
       "\n",
       "    .dataframe thead th {\n",
       "        text-align: right;\n",
       "    }\n",
       "</style>\n",
       "<table border=\"1\" class=\"dataframe\">\n",
       "  <thead>\n",
       "    <tr style=\"text-align: right;\">\n",
       "      <th></th>\n",
       "      <th>tripduration</th>\n",
       "      <th>start station id</th>\n",
       "      <th>start station latitude</th>\n",
       "      <th>start station longitude</th>\n",
       "      <th>end station id</th>\n",
       "      <th>end station latitude</th>\n",
       "      <th>end station longitude</th>\n",
       "      <th>bikeid</th>\n",
       "      <th>birth year</th>\n",
       "      <th>gender</th>\n",
       "      <th>age</th>\n",
       "    </tr>\n",
       "  </thead>\n",
       "  <tbody>\n",
       "    <tr>\n",
       "      <th>tripduration</th>\n",
       "      <td>1.000000</td>\n",
       "      <td>0.013436</td>\n",
       "      <td>-0.009823</td>\n",
       "      <td>0.011219</td>\n",
       "      <td>0.016837</td>\n",
       "      <td>-0.007171</td>\n",
       "      <td>0.004540</td>\n",
       "      <td>-0.001154</td>\n",
       "      <td>0.004168</td>\n",
       "      <td>-0.018572</td>\n",
       "      <td>-0.004168</td>\n",
       "    </tr>\n",
       "    <tr>\n",
       "      <th>start station id</th>\n",
       "      <td>0.013436</td>\n",
       "      <td>1.000000</td>\n",
       "      <td>0.106246</td>\n",
       "      <td>0.135339</td>\n",
       "      <td>0.346976</td>\n",
       "      <td>0.033625</td>\n",
       "      <td>0.042135</td>\n",
       "      <td>-0.005503</td>\n",
       "      <td>-0.017664</td>\n",
       "      <td>-0.006024</td>\n",
       "      <td>0.017664</td>\n",
       "    </tr>\n",
       "    <tr>\n",
       "      <th>start station latitude</th>\n",
       "      <td>-0.009823</td>\n",
       "      <td>0.106246</td>\n",
       "      <td>1.000000</td>\n",
       "      <td>-0.634067</td>\n",
       "      <td>0.052300</td>\n",
       "      <td>0.475297</td>\n",
       "      <td>-0.278721</td>\n",
       "      <td>0.000467</td>\n",
       "      <td>-0.042524</td>\n",
       "      <td>-0.030831</td>\n",
       "      <td>0.042524</td>\n",
       "    </tr>\n",
       "    <tr>\n",
       "      <th>start station longitude</th>\n",
       "      <td>0.011219</td>\n",
       "      <td>0.135339</td>\n",
       "      <td>-0.634067</td>\n",
       "      <td>1.000000</td>\n",
       "      <td>0.099613</td>\n",
       "      <td>-0.344273</td>\n",
       "      <td>0.410472</td>\n",
       "      <td>0.001119</td>\n",
       "      <td>0.014105</td>\n",
       "      <td>0.005389</td>\n",
       "      <td>-0.014105</td>\n",
       "    </tr>\n",
       "    <tr>\n",
       "      <th>end station id</th>\n",
       "      <td>0.016837</td>\n",
       "      <td>0.346976</td>\n",
       "      <td>0.052300</td>\n",
       "      <td>0.099613</td>\n",
       "      <td>1.000000</td>\n",
       "      <td>0.050127</td>\n",
       "      <td>0.059834</td>\n",
       "      <td>-0.005060</td>\n",
       "      <td>-0.008864</td>\n",
       "      <td>-0.006795</td>\n",
       "      <td>0.008864</td>\n",
       "    </tr>\n",
       "    <tr>\n",
       "      <th>end station latitude</th>\n",
       "      <td>-0.007171</td>\n",
       "      <td>0.033625</td>\n",
       "      <td>0.475297</td>\n",
       "      <td>-0.344273</td>\n",
       "      <td>0.050127</td>\n",
       "      <td>1.000000</td>\n",
       "      <td>-0.912073</td>\n",
       "      <td>0.001421</td>\n",
       "      <td>-0.034017</td>\n",
       "      <td>-0.014004</td>\n",
       "      <td>0.034017</td>\n",
       "    </tr>\n",
       "    <tr>\n",
       "      <th>end station longitude</th>\n",
       "      <td>0.004540</td>\n",
       "      <td>0.042135</td>\n",
       "      <td>-0.278721</td>\n",
       "      <td>0.410472</td>\n",
       "      <td>0.059834</td>\n",
       "      <td>-0.912073</td>\n",
       "      <td>1.000000</td>\n",
       "      <td>-0.000280</td>\n",
       "      <td>0.008889</td>\n",
       "      <td>-0.000320</td>\n",
       "      <td>-0.008889</td>\n",
       "    </tr>\n",
       "    <tr>\n",
       "      <th>bikeid</th>\n",
       "      <td>-0.001154</td>\n",
       "      <td>-0.005503</td>\n",
       "      <td>0.000467</td>\n",
       "      <td>0.001119</td>\n",
       "      <td>-0.005060</td>\n",
       "      <td>0.001421</td>\n",
       "      <td>-0.000280</td>\n",
       "      <td>1.000000</td>\n",
       "      <td>0.005354</td>\n",
       "      <td>-0.008436</td>\n",
       "      <td>-0.005354</td>\n",
       "    </tr>\n",
       "    <tr>\n",
       "      <th>birth year</th>\n",
       "      <td>0.004168</td>\n",
       "      <td>-0.017664</td>\n",
       "      <td>-0.042524</td>\n",
       "      <td>0.014105</td>\n",
       "      <td>-0.008864</td>\n",
       "      <td>-0.034017</td>\n",
       "      <td>0.008889</td>\n",
       "      <td>0.005354</td>\n",
       "      <td>1.000000</td>\n",
       "      <td>0.050591</td>\n",
       "      <td>-1.000000</td>\n",
       "    </tr>\n",
       "    <tr>\n",
       "      <th>gender</th>\n",
       "      <td>-0.018572</td>\n",
       "      <td>-0.006024</td>\n",
       "      <td>-0.030831</td>\n",
       "      <td>0.005389</td>\n",
       "      <td>-0.006795</td>\n",
       "      <td>-0.014004</td>\n",
       "      <td>-0.000320</td>\n",
       "      <td>-0.008436</td>\n",
       "      <td>0.050591</td>\n",
       "      <td>1.000000</td>\n",
       "      <td>-0.050591</td>\n",
       "    </tr>\n",
       "    <tr>\n",
       "      <th>age</th>\n",
       "      <td>-0.004168</td>\n",
       "      <td>0.017664</td>\n",
       "      <td>0.042524</td>\n",
       "      <td>-0.014105</td>\n",
       "      <td>0.008864</td>\n",
       "      <td>0.034017</td>\n",
       "      <td>-0.008889</td>\n",
       "      <td>-0.005354</td>\n",
       "      <td>-1.000000</td>\n",
       "      <td>-0.050591</td>\n",
       "      <td>1.000000</td>\n",
       "    </tr>\n",
       "  </tbody>\n",
       "</table>\n",
       "</div>"
      ],
      "text/plain": [
       "                         tripduration  start station id  \\\n",
       "tripduration                 1.000000          0.013436   \n",
       "start station id             0.013436          1.000000   \n",
       "start station latitude      -0.009823          0.106246   \n",
       "start station longitude      0.011219          0.135339   \n",
       "end station id               0.016837          0.346976   \n",
       "end station latitude        -0.007171          0.033625   \n",
       "end station longitude        0.004540          0.042135   \n",
       "bikeid                      -0.001154         -0.005503   \n",
       "birth year                   0.004168         -0.017664   \n",
       "gender                      -0.018572         -0.006024   \n",
       "age                         -0.004168          0.017664   \n",
       "\n",
       "                         start station latitude  start station longitude  \\\n",
       "tripduration                          -0.009823                 0.011219   \n",
       "start station id                       0.106246                 0.135339   \n",
       "start station latitude                 1.000000                -0.634067   \n",
       "start station longitude               -0.634067                 1.000000   \n",
       "end station id                         0.052300                 0.099613   \n",
       "end station latitude                   0.475297                -0.344273   \n",
       "end station longitude                 -0.278721                 0.410472   \n",
       "bikeid                                 0.000467                 0.001119   \n",
       "birth year                            -0.042524                 0.014105   \n",
       "gender                                -0.030831                 0.005389   \n",
       "age                                    0.042524                -0.014105   \n",
       "\n",
       "                         end station id  end station latitude  \\\n",
       "tripduration                   0.016837             -0.007171   \n",
       "start station id               0.346976              0.033625   \n",
       "start station latitude         0.052300              0.475297   \n",
       "start station longitude        0.099613             -0.344273   \n",
       "end station id                 1.000000              0.050127   \n",
       "end station latitude           0.050127              1.000000   \n",
       "end station longitude          0.059834             -0.912073   \n",
       "bikeid                        -0.005060              0.001421   \n",
       "birth year                    -0.008864             -0.034017   \n",
       "gender                        -0.006795             -0.014004   \n",
       "age                            0.008864              0.034017   \n",
       "\n",
       "                         end station longitude    bikeid  birth year  \\\n",
       "tripduration                          0.004540 -0.001154    0.004168   \n",
       "start station id                      0.042135 -0.005503   -0.017664   \n",
       "start station latitude               -0.278721  0.000467   -0.042524   \n",
       "start station longitude               0.410472  0.001119    0.014105   \n",
       "end station id                        0.059834 -0.005060   -0.008864   \n",
       "end station latitude                 -0.912073  0.001421   -0.034017   \n",
       "end station longitude                 1.000000 -0.000280    0.008889   \n",
       "bikeid                               -0.000280  1.000000    0.005354   \n",
       "birth year                            0.008889  0.005354    1.000000   \n",
       "gender                               -0.000320 -0.008436    0.050591   \n",
       "age                                  -0.008889 -0.005354   -1.000000   \n",
       "\n",
       "                           gender       age  \n",
       "tripduration            -0.018572 -0.004168  \n",
       "start station id        -0.006024  0.017664  \n",
       "start station latitude  -0.030831  0.042524  \n",
       "start station longitude  0.005389 -0.014105  \n",
       "end station id          -0.006795  0.008864  \n",
       "end station latitude    -0.014004  0.034017  \n",
       "end station longitude   -0.000320 -0.008889  \n",
       "bikeid                  -0.008436 -0.005354  \n",
       "birth year               0.050591 -1.000000  \n",
       "gender                   1.000000 -0.050591  \n",
       "age                     -0.050591  1.000000  "
      ]
     },
     "execution_count": 27,
     "metadata": {},
     "output_type": "execute_result"
    }
   ],
   "source": [
    "dataset.corr()"
   ]
  },
  {
   "cell_type": "markdown",
   "metadata": {},
   "source": [
    "Correlation between each columns can be calculated using corr() function. These correlations can be displayed using seaborn with sns.heatmap()."
   ]
  },
  {
   "cell_type": "code",
   "execution_count": 28,
   "metadata": {},
   "outputs": [
    {
     "data": {
      "text/plain": [
       "-0.004167567478677345"
      ]
     },
     "execution_count": 28,
     "metadata": {},
     "output_type": "execute_result"
    }
   ],
   "source": [
    "dataset[\"age\"].corr(dataset[\"tripduration\"])"
   ]
  },
  {
   "cell_type": "markdown",
   "metadata": {},
   "source": [
    "Age and trip duration have a negative correlation with the exact number of -0.004167567478677345."
   ]
  },
  {
   "cell_type": "markdown",
   "metadata": {},
   "source": [
    "## What are the top 10 pair of stations that our riders use as a start & stopping point?"
   ]
  },
  {
   "cell_type": "code",
   "execution_count": 29,
   "metadata": {},
   "outputs": [
    {
     "data": {
      "text/html": [
       "<div>\n",
       "<style scoped>\n",
       "    .dataframe tbody tr th:only-of-type {\n",
       "        vertical-align: middle;\n",
       "    }\n",
       "\n",
       "    .dataframe tbody tr th {\n",
       "        vertical-align: top;\n",
       "    }\n",
       "\n",
       "    .dataframe thead th {\n",
       "        text-align: right;\n",
       "    }\n",
       "</style>\n",
       "<table border=\"1\" class=\"dataframe\">\n",
       "  <thead>\n",
       "    <tr style=\"text-align: right;\">\n",
       "      <th></th>\n",
       "      <th>start station name</th>\n",
       "      <th>end station name</th>\n",
       "      <th>frequency</th>\n",
       "    </tr>\n",
       "  </thead>\n",
       "  <tbody>\n",
       "    <tr>\n",
       "      <th>38402</th>\n",
       "      <td>Central Park S &amp; 6 Ave</td>\n",
       "      <td>Central Park S &amp; 6 Ave</td>\n",
       "      <td>856</td>\n",
       "    </tr>\n",
       "    <tr>\n",
       "      <th>4818</th>\n",
       "      <td>12 Ave &amp; W 40 St</td>\n",
       "      <td>West St &amp; Chambers St</td>\n",
       "      <td>781</td>\n",
       "    </tr>\n",
       "    <tr>\n",
       "      <th>75000</th>\n",
       "      <td>E 7 St &amp; Avenue A</td>\n",
       "      <td>Cooper Square &amp; E 7 St</td>\n",
       "      <td>770</td>\n",
       "    </tr>\n",
       "    <tr>\n",
       "      <th>38354</th>\n",
       "      <td>Central Park S &amp; 6 Ave</td>\n",
       "      <td>5 Ave &amp; E 88 St</td>\n",
       "      <td>701</td>\n",
       "    </tr>\n",
       "    <tr>\n",
       "      <th>88775</th>\n",
       "      <td>Grand Army Plaza &amp; Central Park S</td>\n",
       "      <td>Grand Army Plaza &amp; Central Park S</td>\n",
       "      <td>578</td>\n",
       "    </tr>\n",
       "    <tr>\n",
       "      <th>161956</th>\n",
       "      <td>West St &amp; Chambers St</td>\n",
       "      <td>12 Ave &amp; W 40 St</td>\n",
       "      <td>562</td>\n",
       "    </tr>\n",
       "    <tr>\n",
       "      <th>127788</th>\n",
       "      <td>Soissons Landing</td>\n",
       "      <td>Soissons Landing</td>\n",
       "      <td>560</td>\n",
       "    </tr>\n",
       "    <tr>\n",
       "      <th>118800</th>\n",
       "      <td>Picnic Point</td>\n",
       "      <td>Soissons Landing</td>\n",
       "      <td>558</td>\n",
       "    </tr>\n",
       "    <tr>\n",
       "      <th>119159</th>\n",
       "      <td>Pier 40 - Hudson River Park</td>\n",
       "      <td>West St &amp; Chambers St</td>\n",
       "      <td>549</td>\n",
       "    </tr>\n",
       "    <tr>\n",
       "      <th>4696</th>\n",
       "      <td>12 Ave &amp; W 40 St</td>\n",
       "      <td>Pier 40 - Hudson River Park</td>\n",
       "      <td>538</td>\n",
       "    </tr>\n",
       "  </tbody>\n",
       "</table>\n",
       "</div>"
      ],
      "text/plain": [
       "                       start station name                   end station name  \\\n",
       "38402              Central Park S & 6 Ave             Central Park S & 6 Ave   \n",
       "4818                     12 Ave & W 40 St              West St & Chambers St   \n",
       "75000                   E 7 St & Avenue A             Cooper Square & E 7 St   \n",
       "38354              Central Park S & 6 Ave                    5 Ave & E 88 St   \n",
       "88775   Grand Army Plaza & Central Park S  Grand Army Plaza & Central Park S   \n",
       "161956              West St & Chambers St                   12 Ave & W 40 St   \n",
       "127788                   Soissons Landing                   Soissons Landing   \n",
       "118800                       Picnic Point                   Soissons Landing   \n",
       "119159        Pier 40 - Hudson River Park              West St & Chambers St   \n",
       "4696                     12 Ave & W 40 St        Pier 40 - Hudson River Park   \n",
       "\n",
       "        frequency  \n",
       "38402         856  \n",
       "4818          781  \n",
       "75000         770  \n",
       "38354         701  \n",
       "88775         578  \n",
       "161956        562  \n",
       "127788        560  \n",
       "118800        558  \n",
       "119159        549  \n",
       "4696          538  "
      ]
     },
     "execution_count": 29,
     "metadata": {},
     "output_type": "execute_result"
    }
   ],
   "source": [
    "data_station = dataset.groupby([\"start station name\", \"end station name\"]).size().reset_index(name=\"frequency\")\n",
    "data_station = data_station.sort_values(by=[\"frequency\"], ascending=False).head(10)\n",
    "data_station"
   ]
  },
  {
   "cell_type": "markdown",
   "metadata": {},
   "source": [
    "groupby() function can be used to calculate the frequency of two columns occuring together. The top 10 pair of stations that our riders use as a start and stopping point are shown above."
   ]
  },
  {
   "cell_type": "markdown",
   "metadata": {},
   "source": [
    "## Come up with your own question on the Citibike data usage and formulate a hypothesis"
   ]
  },
  {
   "cell_type": "markdown",
   "metadata": {},
   "source": [
    "### Question 1\n",
    "### \"Younger people are more likely to choose biking for commuting.\"\n",
    ">\n",
    ">Null Hypothesis:\n",
    ">The proportion of people in the age of 40 and under are the same or higher than the proportion of people over 40 years old"
   ]
  },
  {
   "cell_type": "code",
   "execution_count": 30,
   "metadata": {},
   "outputs": [
    {
     "data": {
      "text/plain": [
       "young    1091063\n",
       "old       579567\n",
       "Name: age, dtype: int64"
      ]
     },
     "execution_count": 30,
     "metadata": {},
     "output_type": "execute_result"
    }
   ],
   "source": [
    "age_category = pd.cut(dataset[\"age\"], bins=[0, 40, np.inf], include_lowest=True, labels=['young', 'old'])\n",
    "age_category.value_counts()"
   ]
  },
  {
   "cell_type": "code",
   "execution_count": 31,
   "metadata": {},
   "outputs": [
    {
     "data": {
      "text/plain": [
       "<AxesSubplot:>"
      ]
     },
     "execution_count": 31,
     "metadata": {},
     "output_type": "execute_result"
    },
    {
     "data": {
      "image/png": "[encoded data removed]",
      "text/plain": [
       "<Figure size 432x288 with 1 Axes>"
      ]
     },
     "metadata": {
      "needs_background": "light"
     },
     "output_type": "display_data"
    }
   ],
   "source": [
    "age_category.hist()"
   ]
  },
  {
   "cell_type": "markdown",
   "metadata": {},
   "source": [
    "The histogram above shows that younger people (40 and under) rides citibike more frequently than older people (over 40). This means that the null hypothesis is correct."
   ]
  },
  {
   "cell_type": "markdown",
   "metadata": {},
   "source": [
    "### Question 2\n",
    "### \"People tend to start and end their ride at different stations.\"\n",
    ">\n",
    ">Null Hypothesis:\n",
    ">The proportion of people who start and end their ride at the same station are lower than those who do not"
   ]
  },
  {
   "cell_type": "code",
   "execution_count": 32,
   "metadata": {},
   "outputs": [
    {
     "data": {
      "text/plain": [
       "False    1840905\n",
       "True       37193\n",
       "dtype: int64"
      ]
     },
     "execution_count": 32,
     "metadata": {},
     "output_type": "execute_result"
    }
   ],
   "source": [
    "station_category = (dataset[\"start station name\"] == dataset[\"end station name\"]).astype(str)\n",
    "station_category.value_counts()"
   ]
  },
  {
   "cell_type": "code",
   "execution_count": 33,
   "metadata": {},
   "outputs": [
    {
     "data": {
      "text/plain": [
       "<AxesSubplot:>"
      ]
     },
     "execution_count": 33,
     "metadata": {},
     "output_type": "execute_result"
    },
    {
     "data": {
      "image/png": "[encoded data removed]",
      "text/plain": [
       "<Figure size 432x288 with 1 Axes>"
      ]
     },
     "metadata": {
      "needs_background": "light"
     },
     "output_type": "display_data"
    }
   ],
   "source": [
    "station_category.hist()"
   ]
  },
  {
   "cell_type": "markdown",
   "metadata": {},
   "source": [
    "The histogram above shows that False (different start and end stations) are more frequent than True (same start and end stations). This means that the null hypothesis is correct."
   ]
  },
  {
   "cell_type": "markdown",
   "metadata": {},
   "source": [
    "# Submit Instructions\n",
    "Rename this notebook to `mod2_<first_name>_<last_name>.ipynb` and push this to your branch in module-2 repository\n",
    "\n",
    "```\n",
    "git checkout -b tanyani\n",
    "git add mod2_tanya_nabila.ipynb\n",
    "git commit -m 'submit mod2 assignment for Tanya Nabila'\n",
    "git push\n",
    "```"
   ]
  }
 ],
 "metadata": {
  "interpreter": {
   "hash": "52b78d8e2db875985b812709016d1a544e51f9f88c2ad8d2c099fce058451922"
  },
  "kernelspec": {
   "display_name": "Python 3",
   "language": "python",
   "name": "python3"
  },
  "language_info": {
   "codemirror_mode": {
    "name": "ipython",
    "version": 3
   },
   "file_extension": ".py",
   "mimetype": "text/x-python",
   "name": "python",
   "nbconvert_exporter": "python",
   "pygments_lexer": "ipython3",
   "version": "3.8.5"
  }
 },
 "nbformat": 4,
 "nbformat_minor": 2
}
